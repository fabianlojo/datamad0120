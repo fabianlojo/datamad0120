{
 "cells": [
  {
   "cell_type": "markdown",
   "metadata": {},
   "source": [
    "## Challenge 2: Sets\n",
    "\n",
    "There are a lot to learn about Python Sets and the information presented in the lesson is limited due to its length. To learn Python Sets in depth you are strongly encouraged to review the W3Schools tutorial on [Python Sets Examples and Methods](https://www.w3schools.com/python/python_sets.asp) before you work on this lab. Some difficult questions in this lab have their solutions in the W3Schools tutorial.\n",
    "\n",
    "#### First, import the Python `random` libary"
   ]
  },
  {
   "cell_type": "code",
   "execution_count": 11,
   "metadata": {},
   "outputs": [],
   "source": [
    "import random"
   ]
  },
  {
   "cell_type": "markdown",
   "metadata": {},
   "source": [
    "#### In the cell below, create a list named `sample_list_1` with 80 random values. \n",
    "\n",
    "Requirements:\n",
    "\n",
    "* Each value is an integer falling between 0 and 100.\n",
    "* Each value in the list is unique.\n",
    "\n",
    "Print `sample_list_1` to review its values\n",
    "\n",
    "*Hint: use `random.sample` ([reference](https://docs.python.org/3/library/random.html#random.sample)).*"
   ]
  },
  {
   "cell_type": "code",
   "execution_count": 93,
   "metadata": {},
   "outputs": [
    {
     "name": "stdout",
     "output_type": "stream",
     "text": [
      "[33, 37, 36, 21, 93, 15, 57, 64, 77, 51, 23, 89, 44, 99, 60, 98, 59, 1, 49, 90, 3, 78, 41, 71, 54, 2, 26, 43, 14, 65, 91, 92, 7, 17, 66, 87, 52, 16, 70, 61, 96, 31, 24, 55, 45, 69, 84, 82, 4, 5, 62, 56, 8, 9, 94, 53, 72, 34, 25, 58, 95, 81, 97, 13, 40, 19, 32, 83, 11, 42, 79, 74, 86, 67, 47, 35, 63, 27, 18, 68]\n"
     ]
    }
   ],
   "source": [
    "# Your code here\n",
    "import random\n",
    "list1=list(range(1,100))\n",
    "sample_list_1 = random.sample(list1,k=80)\n",
    "print (sample_list_1)"
   ]
  },
  {
   "cell_type": "markdown",
   "metadata": {},
   "source": [
    "#### Convert `sample_list_1` to a set called `set1`. Print the length of the set. Is its length still 80?"
   ]
  },
  {
   "cell_type": "code",
   "execution_count": 94,
   "metadata": {},
   "outputs": [
    {
     "data": {
      "text/plain": [
       "80"
      ]
     },
     "execution_count": 94,
     "metadata": {},
     "output_type": "execute_result"
    }
   ],
   "source": [
    "# Your code here\n",
    "set1=set(sample_list_1)\n",
    "len(set1)"
   ]
  },
  {
   "cell_type": "markdown",
   "metadata": {},
   "source": [
    "#### Create another list named `sample_list_2` with 80 random values.\n",
    "\n",
    "Requirements:\n",
    "\n",
    "* Each value is an integer falling between 0 and 100.\n",
    "* The values in the list don't have to be unique.\n",
    "\n",
    "*Hint: Use a FOR loop.*"
   ]
  },
  {
   "cell_type": "code",
   "execution_count": 68,
   "metadata": {},
   "outputs": [
    {
     "name": "stdout",
     "output_type": "stream",
     "text": [
      "84 75 15 59 2 23 39 38 36 37 92 82 91 6 99 16 1 86 15 29 18 45 94 67 84 47 3 56 96 7 77 57 44 64 53 64 16 9 6 66 55 72 48 78 80 80 1 79 79 37 72 70 8 10 12 35 76 90 43 56 12 84 68 37 8 49 23 36 5 59 64 84 33 52 97 6 91 16 71 37 "
     ]
    }
   ],
   "source": [
    "# Your code here\n",
    "import random\n",
    "for i in range(80):\n",
    "    sample_list_2 = random.randrange(1,100)\n",
    "    print ((sample_list_2),end=\" \")"
   ]
  },
  {
   "cell_type": "markdown",
   "metadata": {},
   "source": [
    "#### Convert `sample_list_2` to a set called `set2`. Print the length of the set. Is its length still 80?"
   ]
  },
  {
   "cell_type": "code",
   "execution_count": 77,
   "metadata": {},
   "outputs": [
    {
     "name": "stdout",
     "output_type": "stream",
     "text": [
      "80\n"
     ]
    }
   ],
   "source": [
    "# Your code here\n",
    "sample_list_2=(84, 75, 15, 59, 2, 23, 39, 38, 36, 37, 92, 82, 91, 6, 99, 16, 1, 86, 15, 29, 18, 45,\n",
    "               94, 67, 84, 47, 3, 56, 96, 7, 77, 57, 44, 64, 53, 64, 16, 9, 6, 66, 55, 72, 48, 78,\n",
    "               80, 80, 1, 79, 79, 37, 72, 70, 8, 10, 12, 35, 76, 90, 43, 56, 12, 84, 68, 37, 8, 49,\n",
    "               23, 36, 5, 59, 64, 84, 33, 52, 97, 6, 91, 16, 71, 37)\n",
    "set2=set(sample_list_2)\n",
    "print (len(sample_list_2))"
   ]
  },
  {
   "cell_type": "markdown",
   "metadata": {},
   "source": [
    "#### Identify the elements present in `set1` but not in `set2`. Assign the elements to a new set named `set3`."
   ]
  },
  {
   "cell_type": "code",
   "execution_count": 96,
   "metadata": {},
   "outputs": [
    {
     "name": "stdout",
     "output_type": "stream",
     "text": [
      "{4, 11, 13, 14, 17, 19, 21, 24, 25, 26, 27, 31, 32, 34, 40, 41, 42, 51, 54, 58, 60, 61, 62, 63, 65, 69, 74, 81, 83, 87, 89, 93, 95, 98}\n"
     ]
    }
   ],
   "source": [
    "# Your code here\n",
    "set1={33, 37, 36, 21, 93, 15, 57, 64, 77, 51, 23, 89, 44, 99, 60, 98, 59, 1, 49, 90, 3, 78, 41, 71,\n",
    "      54, 2, 26, 43, 14, 65, 91, 92, 7, 17, 66, 87, 52, 16, 70, 61, 96, 31, 24, 55, 45, 69, 84, 82,\n",
    "      4, 5, 62, 56, 8, 9, 94, 53, 72, 34, 25, 58, 95, 81, 97, 13, 40, 19, 32, 83, 11, 42, 79, 74, 86,\n",
    "      67, 47, 35, 63, 27, 18, 68}\n",
    "set2={84, 75, 15, 59, 2, 23, 39, 38, 36, 37, 92, 82, 91, 6, 99, 16, 1, 86, 15, 29, 18, 45, 94, 67, \n",
    "      84, 47, 3, 56, 96, 7, 77, 57, 44, 64, 53, 64, 16, 9, 6, 66, 55, 72, 48, 78, 80, 80, 1, 79, 79,\n",
    "      37, 72, 70, 8, 10, 12, 35, 76, 90, 43, 56, 12, 84, 68, 37, 8, 49, 23, 36, 5, 59, 64, 84, 33, 52,\n",
    "      97, 6, 91, 16, 71, 37}\n",
    "set3=(set1.difference(set2))\n",
    "print (set1.difference(set2))"
   ]
  },
  {
   "cell_type": "markdown",
   "metadata": {},
   "source": [
    "#### Identify the elements present in `set2` but not in `set1`. Assign the elements to a new set named `set4`."
   ]
  },
  {
   "cell_type": "code",
   "execution_count": 97,
   "metadata": {},
   "outputs": [
    {
     "name": "stdout",
     "output_type": "stream",
     "text": [
      "{38, 6, 39, 10, 75, 12, 76, 48, 80, 29}\n"
     ]
    }
   ],
   "source": [
    "# Your code here\n",
    "set4=(set2.difference(set1))\n",
    "print (set4)"
   ]
  },
  {
   "cell_type": "markdown",
   "metadata": {},
   "source": [
    "#### Now Identify the elements shared between `set1` and `set2`. Assign the elements to a new set named `set5`."
   ]
  },
  {
   "cell_type": "code",
   "execution_count": 102,
   "metadata": {},
   "outputs": [
    {
     "name": "stdout",
     "output_type": "stream",
     "text": [
      "{1, 2, 3, 5, 7, 8, 9, 15, 16, 18, 23, 33, 35, 36, 37, 43, 44, 45, 47, 49, 52, 53, 55, 56, 57, 59, 64, 66, 67, 68, 70, 71, 72, 77, 78, 79, 82, 84, 86, 90, 91, 92, 94, 96, 97, 99}\n"
     ]
    },
    {
     "data": {
      "text/plain": [
       "set"
      ]
     },
     "execution_count": 102,
     "metadata": {},
     "output_type": "execute_result"
    }
   ],
   "source": [
    "# Your code here\n",
    "set5=set1 & set2\n",
    "print (set5)"
   ]
  },
  {
   "cell_type": "markdown",
   "metadata": {},
   "source": [
    "### What is the relationship among the following values:\n",
    "\n",
    "* len(set1)\n",
    "* len(set2)\n",
    "* len(set3)\n",
    "* len(set4)\n",
    "* len(set5)\n",
    "\n",
    "Use a math formular to represent that relationship. Test your formular with Python code."
   ]
  },
  {
   "cell_type": "code",
   "execution_count": 118,
   "metadata": {},
   "outputs": [
    {
     "name": "stdout",
     "output_type": "stream",
     "text": [
      "las diferencias son menos que las igualdades\n",
      "80\n",
      "56\n",
      "34\n",
      "10\n",
      "46\n"
     ]
    }
   ],
   "source": [
    "# Your code here \n",
    "# cuando se comparan las diferencias el resultado siempre es menor a cuando se comparan las igualdades\n",
    "if (len(set3))<(len(set5)):\n",
    "    print (\"las diferencias son menos que las igualdades\")\n",
    "elif (len(set4))<(len(set5)):\n",
    "    print (\"las diferencias son menos que las igualdades\")\n",
    "else:\n",
    "    print (\"las igualdades son mas que las diferencias\")"
   ]
  },
  {
   "cell_type": "markdown",
   "metadata": {},
   "source": [
    "#### Create an empty set called `set6`."
   ]
  },
  {
   "cell_type": "code",
   "execution_count": 101,
   "metadata": {},
   "outputs": [
    {
     "data": {
      "text/plain": [
       "set"
      ]
     },
     "execution_count": 101,
     "metadata": {},
     "output_type": "execute_result"
    }
   ],
   "source": [
    "# Your code here\n",
    "set6=set()\n",
    "type(set6)"
   ]
  },
  {
   "cell_type": "markdown",
   "metadata": {},
   "source": [
    "#### Add `set3` and `set5` to `set6` using the Python Set `update` method."
   ]
  },
  {
   "cell_type": "code",
   "execution_count": 119,
   "metadata": {},
   "outputs": [],
   "source": [
    "# Your code here\n",
    "set6.update(set3, set5)"
   ]
  },
  {
   "cell_type": "markdown",
   "metadata": {},
   "source": [
    "#### Check if `set1` and `set6` are equal."
   ]
  },
  {
   "cell_type": "code",
   "execution_count": 120,
   "metadata": {},
   "outputs": [
    {
     "data": {
      "text/plain": [
       "True"
      ]
     },
     "execution_count": 120,
     "metadata": {},
     "output_type": "execute_result"
    }
   ],
   "source": [
    "# Your code here\n",
    "set1==set6"
   ]
  },
  {
   "cell_type": "markdown",
   "metadata": {},
   "source": [
    "#### Check if `set1` contains `set2` using the Python Set `issubset` method. Then check if `set1` contains `set3`.*"
   ]
  },
  {
   "cell_type": "code",
   "execution_count": 123,
   "metadata": {},
   "outputs": [
    {
     "data": {
      "text/plain": [
       "(False, False)"
      ]
     },
     "execution_count": 123,
     "metadata": {},
     "output_type": "execute_result"
    }
   ],
   "source": [
    "# Your code here\n",
    "set1.issubset(set2),set1.issubset(set3)"
   ]
  },
  {
   "cell_type": "markdown",
   "metadata": {},
   "source": [
    "#### Using the Python Set `union` method, aggregate `set3`, `set4`, and `set5`. Then aggregate `set1` and `set2`. \n",
    "\n",
    "#### Check if the aggregated values are equal."
   ]
  },
  {
   "cell_type": "code",
   "execution_count": 127,
   "metadata": {},
   "outputs": [
    {
     "data": {
      "text/plain": [
       "True"
      ]
     },
     "execution_count": 127,
     "metadata": {},
     "output_type": "execute_result"
    }
   ],
   "source": [
    "# Your code here\n",
    "igualdad1=set3 | set4 | set5 \n",
    "igualdad2=set1 | set2\n",
    "igualdad1==igualdad2"
   ]
  },
  {
   "cell_type": "markdown",
   "metadata": {},
   "source": [
    "#### Using the `pop` method, remove the first element from `set1`."
   ]
  },
  {
   "cell_type": "code",
   "execution_count": 134,
   "metadata": {},
   "outputs": [
    {
     "name": "stdout",
     "output_type": "stream",
     "text": [
      "[37, 36, 21, 93, 15, 57, 64, 77, 51, 23, 89, 44, 99, 60, 98, 59, 1, 49, 90, 3, 78, 41, 71, 54, 2, 26, 43, 14, 65, 91, 92, 7, 17, 66, 87, 52, 16, 70, 61, 96, 31, 24, 55, 45, 69, 84, 82, 4, 5, 62, 56, 8, 9, 94, 53, 72, 34, 25, 58, 95, 81, 97, 13, 40, 19, 32, 83, 11, 42, 79, 74, 86, 67, 47, 35, 63, 27, 18, 68]\n"
     ]
    }
   ],
   "source": [
    "# Your code here\n",
    "set1=[33, 37, 36, 21, 93, 15, 57, 64, 77, 51, 23, 89, 44, 99, 60, 98, 59, 1, 49, 90, 3, 78, 41, 71,\n",
    "      54, 2, 26, 43, 14, 65, 91, 92, 7, 17, 66, 87, 52, 16, 70, 61, 96, 31, 24, 55, 45, 69, 84, 82,\n",
    "      4, 5, 62, 56, 8, 9, 94, 53, 72, 34, 25, 58, 95, 81, 97, 13, 40, 19, 32, 83, 11, 42, 79, 74, 86,\n",
    "      67, 47, 35, 63, 27, 18, 68]\n",
    "set1.pop(0)\n",
    "print (set1)"
   ]
  },
  {
   "cell_type": "markdown",
   "metadata": {},
   "source": [
    "#### Remove every element in the following list from `set1` if they are present in the set. Print the remaining elements.\n",
    "\n",
    "```\n",
    "list_to_remove = [1, 9, 11, 19, 21, 29, 31, 39, 41, 49, 51, 59, 61, 69, 71, 79, 81, 89, 91, 99]\n",
    "```"
   ]
  },
  {
   "cell_type": "code",
   "execution_count": 138,
   "metadata": {},
   "outputs": [
    {
     "ename": "SyntaxError",
     "evalue": "can't delete function call (<ipython-input-138-e414f64924d9>, line 2)",
     "output_type": "error",
     "traceback": [
      "\u001b[1;36m  File \u001b[1;32m\"<ipython-input-138-e414f64924d9>\"\u001b[1;36m, line \u001b[1;32m2\u001b[0m\n\u001b[1;33m    del set1(1, 9, 11, 19, 21, 29, 31, 39, 41, 49, 51, 59, 61, 69, 71, 79, 81, 89, 91, 99)\u001b[0m\n\u001b[1;37m       ^\u001b[0m\n\u001b[1;31mSyntaxError\u001b[0m\u001b[1;31m:\u001b[0m can't delete function call\n"
     ]
    }
   ],
   "source": [
    "# Your code here\n",
    "del set1(1, 9, 11, 19, 21, 29, 31, 39, 41, 49, 51, 59, 61, 69, 71, 79, 81, 89, 91, 99)\n",
    "print (set1)"
   ]
  },
  {
   "cell_type": "code",
   "execution_count": null,
   "metadata": {},
   "outputs": [],
   "source": []
  }
 ],
 "metadata": {
  "kernelspec": {
   "display_name": "Python 3",
   "language": "python",
   "name": "python3"
  },
  "language_info": {
   "codemirror_mode": {
    "name": "ipython",
    "version": 3
   },
   "file_extension": ".py",
   "mimetype": "text/x-python",
   "name": "python",
   "nbconvert_exporter": "python",
   "pygments_lexer": "ipython3",
   "version": "3.7.4"
  }
 },
 "nbformat": 4,
 "nbformat_minor": 2
}
