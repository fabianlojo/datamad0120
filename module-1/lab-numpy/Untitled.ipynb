{
 "cells": [
  {
   "cell_type": "code",
   "execution_count": 4,
   "metadata": {},
   "outputs": [
    {
     "name": "stdout",
     "output_type": "stream",
     "text": [
      "1.16.5\n"
     ]
    }
   ],
   "source": [
    "import numpy as np\n",
    "print (np.version.version)"
   ]
  },
  {
   "cell_type": "code",
   "execution_count": 6,
   "metadata": {},
   "outputs": [
    {
     "name": "stdout",
     "output_type": "stream",
     "text": [
      "[[[0.62204014 0.8649637  0.11385464 0.46444231 0.73106722]\n",
      "  [0.13989112 0.88203857 0.98616741 0.06054316 0.21190758]\n",
      "  [0.10108994 0.83278644 0.88697504 0.06730669 0.5203713 ]]\n",
      "\n",
      " [[0.48784356 0.82209025 0.43648626 0.98206557 0.60965555]\n",
      "  [0.1762449  0.35723509 0.94063574 0.11926763 0.10341031]\n",
      "  [0.69517511 0.61173762 0.22969014 0.08530264 0.28712646]]]\n"
     ]
    }
   ],
   "source": [
    "a = np.random.random((2,3,5))\n",
    "print (a)"
   ]
  },
  {
   "cell_type": "code",
   "execution_count": 26,
   "metadata": {},
   "outputs": [
    {
     "name": "stdout",
     "output_type": "stream",
     "text": [
      "[[[1 1 1]\n",
      "  [1 1 1]]\n",
      "\n",
      " [[1 1 1]\n",
      "  [1 1 1]]\n",
      "\n",
      " [[1 1 1]\n",
      "  [1 1 1]]\n",
      "\n",
      " [[1 1 1]\n",
      "  [1 1 1]]\n",
      "\n",
      " [[1 1 1]\n",
      "  [1 1 1]]]\n"
     ]
    }
   ],
   "source": [
    "b= np.full((5,2,3),1)\n",
    "print (b)"
   ]
  },
  {
   "cell_type": "code",
   "execution_count": 31,
   "metadata": {},
   "outputs": [
    {
     "data": {
      "text/plain": [
       "30"
      ]
     },
     "execution_count": 31,
     "metadata": {},
     "output_type": "execute_result"
    }
   ],
   "source": [
    "a.size"
   ]
  },
  {
   "cell_type": "code",
   "execution_count": 29,
   "metadata": {},
   "outputs": [
    {
     "data": {
      "text/plain": [
       "30"
      ]
     },
     "execution_count": 29,
     "metadata": {},
     "output_type": "execute_result"
    }
   ],
   "source": [
    "b.size"
   ]
  },
  {
   "cell_type": "code",
   "execution_count": 69,
   "metadata": {},
   "outputs": [
    {
     "name": "stdout",
     "output_type": "stream",
     "text": [
      "[[[1 1 1 1 1]\n",
      "  [1 1 1 1 1]\n",
      "  [1 1 1 1 1]]\n",
      "\n",
      " [[1 1 1 1 1]\n",
      "  [1 1 1 1 1]\n",
      "  [1 1 1 1 1]]]\n"
     ]
    }
   ],
   "source": [
    "c=b.transpose().reshape(2,3,5)\n",
    "print (c)"
   ]
  },
  {
   "cell_type": "code",
   "execution_count": 70,
   "metadata": {},
   "outputs": [
    {
     "name": "stdout",
     "output_type": "stream",
     "text": [
      "[[[1.62204014 1.8649637  1.11385464 1.46444231 1.73106722]\n",
      "  [1.13989112 1.88203857 1.98616741 1.06054316 1.21190758]\n",
      "  [1.10108994 1.83278644 1.88697504 1.06730669 1.5203713 ]]\n",
      "\n",
      " [[1.48784356 1.82209025 1.43648626 1.98206557 1.60965555]\n",
      "  [1.1762449  1.35723509 1.94063574 1.11926763 1.10341031]\n",
      "  [1.69517511 1.61173762 1.22969014 1.08530264 1.28712646]]]\n"
     ]
    }
   ],
   "source": [
    "d=a+c\n",
    "print (d)"
   ]
  },
  {
   "cell_type": "code",
   "execution_count": 71,
   "metadata": {},
   "outputs": [
    {
     "name": "stdout",
     "output_type": "stream",
     "text": [
      "[[[0.62204014 0.8649637  0.11385464 0.46444231 0.73106722]\n",
      "  [0.13989112 0.88203857 0.98616741 0.06054316 0.21190758]\n",
      "  [0.10108994 0.83278644 0.88697504 0.06730669 0.5203713 ]]\n",
      "\n",
      " [[0.48784356 0.82209025 0.43648626 0.98206557 0.60965555]\n",
      "  [0.1762449  0.35723509 0.94063574 0.11926763 0.10341031]\n",
      "  [0.69517511 0.61173762 0.22969014 0.08530264 0.28712646]]]\n",
      "[[[1.62204014 1.8649637  1.11385464 1.46444231 1.73106722]\n",
      "  [1.13989112 1.88203857 1.98616741 1.06054316 1.21190758]\n",
      "  [1.10108994 1.83278644 1.88697504 1.06730669 1.5203713 ]]\n",
      "\n",
      " [[1.48784356 1.82209025 1.43648626 1.98206557 1.60965555]\n",
      "  [1.1762449  1.35723509 1.94063574 1.11926763 1.10341031]\n",
      "  [1.69517511 1.61173762 1.22969014 1.08530264 1.28712646]]]\n"
     ]
    }
   ],
   "source": [
    "print (a)\n",
    "print (d)"
   ]
  },
  {
   "cell_type": "code",
   "execution_count": 74,
   "metadata": {},
   "outputs": [
    {
     "name": "stdout",
     "output_type": "stream",
     "text": [
      "[[[0.62204014 0.8649637  0.11385464 0.46444231 0.73106722]\n",
      "  [0.13989112 0.88203857 0.98616741 0.06054316 0.21190758]\n",
      "  [0.10108994 0.83278644 0.88697504 0.06730669 0.5203713 ]]\n",
      "\n",
      " [[0.48784356 0.82209025 0.43648626 0.98206557 0.60965555]\n",
      "  [0.1762449  0.35723509 0.94063574 0.11926763 0.10341031]\n",
      "  [0.69517511 0.61173762 0.22969014 0.08530264 0.28712646]]]\n",
      "[[[0.62204014 0.8649637  0.11385464 0.46444231 0.73106722]\n",
      "  [0.13989112 0.88203857 0.98616741 0.06054316 0.21190758]\n",
      "  [0.10108994 0.83278644 0.88697504 0.06730669 0.5203713 ]]\n",
      "\n",
      " [[0.48784356 0.82209025 0.43648626 0.98206557 0.60965555]\n",
      "  [0.1762449  0.35723509 0.94063574 0.11926763 0.10341031]\n",
      "  [0.69517511 0.61173762 0.22969014 0.08530264 0.28712646]]]\n"
     ]
    }
   ],
   "source": [
    "e=a*c\n",
    "print (e)\n",
    "print (a)"
   ]
  },
  {
   "cell_type": "code",
   "execution_count": 85,
   "metadata": {},
   "outputs": [
    {
     "name": "stdout",
     "output_type": "stream",
     "text": [
      "1.9861674109061411\n",
      "1.0605431616226837\n",
      "1.4809804038346852\n"
     ]
    }
   ],
   "source": [
    "d_max=np.max(d)\n",
    "d_min=np.min(d)\n",
    "d_mean=np.mean(d)\n",
    "\n",
    "print (d_max)\n",
    "print (d_min)\n",
    "print (d_mean)"
   ]
  },
  {
   "cell_type": "code",
   "execution_count": 93,
   "metadata": {},
   "outputs": [
    {
     "name": "stdout",
     "output_type": "stream",
     "text": [
      "[[[0.62204014 0.8649637  0.11385464 0.46444231 0.73106722]\n",
      "  [0.13989112 0.88203857 0.98616741 0.06054316 0.21190758]\n",
      "  [0.10108994 0.83278644 0.88697504 0.06730669 0.5203713 ]]\n",
      "\n",
      " [[0.48784356 0.82209025 0.43648626 0.98206557 0.60965555]\n",
      "  [0.1762449  0.35723509 0.94063574 0.11926763 0.10341031]\n",
      "  [0.69517511 0.61173762 0.22969014 0.08530264 0.28712646]]]\n"
     ]
    }
   ],
   "source": [
    "f=np.empty([2,3,5])\n",
    "print (f)"
   ]
  },
  {
   "cell_type": "code",
   "execution_count": null,
   "metadata": {},
   "outputs": [],
   "source": [
    "#16. Populate the values in f. For each value in d, if it's larger than d_min but smaller than d_mean, assign 25 to the corresponding value in f.\n",
    "\"\"\"If a value in d is larger than d_mean but smaller than d_max, assign 75 to the corresponding value in f.\n",
    "If a value equals to d_mean, assign 50 to the corresponding value in f.\n",
    "Assign 0 to the corresponding value(s) in f for d_min in d.\n",
    "Assign 100 to the corresponding value(s) in f for d_max in d.\n",
    "In the end, f should have only the following values: 0, 25, 50, 75, and 100.\n",
    "Note: you don't have to use Numpy in this question.\n",
    "\"\"\"\n",
    "for e in d:\n",
    "    if d_mean > e > d_min\n",
    "        "
   ]
  },
  {
   "cell_type": "code",
   "execution_count": null,
   "metadata": {},
   "outputs": [],
   "source": []
  }
 ],
 "metadata": {
  "kernelspec": {
   "display_name": "Python 3",
   "language": "python",
   "name": "python3"
  },
  "language_info": {
   "codemirror_mode": {
    "name": "ipython",
    "version": 3
   },
   "file_extension": ".py",
   "mimetype": "text/x-python",
   "name": "python",
   "nbconvert_exporter": "python",
   "pygments_lexer": "ipython3",
   "version": "3.7.4"
  }
 },
 "nbformat": 4,
 "nbformat_minor": 2
}
