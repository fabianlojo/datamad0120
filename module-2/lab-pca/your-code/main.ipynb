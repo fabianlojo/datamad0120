{
 "cells": [
  {
   "cell_type": "markdown",
   "metadata": {},
   "source": [
    "# Before your start:\n",
    "- Read the README.md file\n",
    "- Comment as much as you can and use the resources (README.md file)\n",
    "- Happy learning!"
   ]
  },
  {
   "cell_type": "code",
   "execution_count": 1,
   "metadata": {},
   "outputs": [],
   "source": [
    "%matplotlib inline\n",
    "\n",
    "import matplotlib.pyplot as plt"
   ]
  },
  {
   "cell_type": "code",
   "execution_count": 2,
   "metadata": {},
   "outputs": [],
   "source": [
    "import numpy as np\n",
    "import pandas as pd"
   ]
  },
  {
   "cell_type": "markdown",
   "metadata": {},
   "source": [
    "# Challenge 1 - Reading and Standardizing the Data\n",
    "\n",
    "In this challenge we will work with image data and reduce the dimensions of the data to create a 2 dimensional plot. While we have not worked much with image data before, it can be represented as a numpy array where each pixel is assigned a numeric value. In this lesson, we will look at a dataset of cats and a dataset of dogs and see whether reducing them to two dimensions allows us to see if the data is separable. We will start by loading and processing the data. Run the cell below to load the two csv files and convert them into numpy arrays."
   ]
  },
  {
   "cell_type": "code",
   "execution_count": 3,
   "metadata": {},
   "outputs": [],
   "source": [
    "import ssl\n",
    "ssl._create_default_https_context = ssl._create_unverified_context\n",
    "cats = np.array(pd.read_csv(\"https://raw.githubusercontent.com/bioramble/pca/master/cat.csv\", header=None))\n",
    "dogs = np.array(pd.read_csv(\"https://raw.githubusercontent.com/bioramble/pca/master/dog.csv\", header=None))"
   ]
  },
  {
   "cell_type": "markdown",
   "metadata": {},
   "source": [
    "Next, we'll examine the shape of both the cats and the dogs arrays. Print out both shapes below."
   ]
  },
  {
   "cell_type": "code",
   "execution_count": 4,
   "metadata": {},
   "outputs": [
    {
     "data": {
      "text/plain": [
       "(4096, 80)"
      ]
     },
     "execution_count": 4,
     "metadata": {},
     "output_type": "execute_result"
    }
   ],
   "source": [
    "# Your code here:\n",
    "cats.shape\n",
    "dogs.shape"
   ]
  },
  {
   "cell_type": "markdown",
   "metadata": {},
   "source": [
    "What this means is that both arrays contain 80 images each (the number of columns). Each image is comprised of 64x64 pixels (so a total of 4096 pixels per image). The images have been flattened such that all 4096 are in a single row.\n",
    "\n",
    "Print out column 0 of the cats array to see what the pixels values look like."
   ]
  },
  {
   "cell_type": "code",
   "execution_count": 5,
   "metadata": {},
   "outputs": [
    {
     "name": "stdout",
     "output_type": "stream",
     "text": [
      "[ 64  23 250 137  55 173  18 134  19  47 109 164  41  78 108 108 247 105\n",
      " 158  54 103   4  23 102 239  72  42  21 168 109 112 177  22 233  15 236\n",
      " 250 137  32   5 178 109  24 107  53 241 226 143   5 136  98 100  89  66\n",
      " 228  92 255  88 230  56 160  69   6  24 195 183 239  35 154 154 122  18\n",
      "  87 106 174  69  28  60 223 101]\n"
     ]
    }
   ],
   "source": [
    "print (cats[0])"
   ]
  },
  {
   "cell_type": "markdown",
   "metadata": {},
   "source": [
    "Using `matplotlib` we can plot a single cat or a single dog. We do this by reshaping the vector back to a 64x64 image and then using the `imshow` function.\n",
    "\n",
    "Run the code below to look at the first dog and the first cat."
   ]
  },
  {
   "cell_type": "code",
   "execution_count": 6,
   "metadata": {},
   "outputs": [
    {
     "data": {
      "text/plain": [
       "<matplotlib.image.AxesImage at 0x7fe20d092828>"
      ]
     },
     "execution_count": 6,
     "metadata": {},
     "output_type": "execute_result"
    },
    {
     "data": {
      "image/png": "[encoded data removed]",
      "text/plain": [
       "<Figure size 432x288 with 1 Axes>"
      ]
     },
     "metadata": {
      "needs_background": "light"
     },
     "output_type": "display_data"
    }
   ],
   "source": [
    "fig, ax = plt.subplots()\n",
    "ax.imshow(cats[::-1,0].reshape(64, 64).T, cmap=plt.cm.bone, interpolation='nearest') "
   ]
  },
  {
   "cell_type": "code",
   "execution_count": 7,
   "metadata": {},
   "outputs": [
    {
     "data": {
      "text/plain": [
       "<matplotlib.image.AxesImage at 0x7fe20bc24ba8>"
      ]
     },
     "execution_count": 7,
     "metadata": {},
     "output_type": "execute_result"
    },
    {
     "data": {
      "image/png": "[encoded data removed]",
      "text/plain": [
       "<Figure size 432x288 with 1 Axes>"
      ]
     },
     "metadata": {
      "needs_background": "light"
     },
     "output_type": "display_data"
    }
   ],
   "source": [
    "fig, ax = plt.subplots()\n",
    "ax.imshow(dogs[::-1,0].reshape(64, 64).T, cmap=plt.cm.bone, interpolation='nearest') "
   ]
  },
  {
   "cell_type": "markdown",
   "metadata": {},
   "source": [
    "Next, we would like to create a standardization function. This function will find the mean and standard deviation of each image. We subtract the mean from each pixel and divide each pixel by the standard deviation. Write the function below.\n",
    "\n",
    "Hint: To find the mean and standard deviation of each image, use `numpy`'s version of mean and stadnard deviation and use `axis=0`."
   ]
  },
  {
   "cell_type": "code",
   "execution_count": 8,
   "metadata": {},
   "outputs": [
    {
     "data": {
      "text/plain": [
       "array([1.73312574, 1.72666382, 2.591549  , 2.06818646, 2.20567908,\n",
       "       0.        , 2.70536222, 0.10591103, 1.42818118, 2.56809954,\n",
       "       1.582396  , 1.97635758, 5.88075113, 4.66958418, 1.42066449,\n",
       "       3.24545352, 0.66918026, 3.47197992, 1.1930577 , 0.3656729 ,\n",
       "       0.22694906, 0.68594433, 0.29487421, 0.67550034, 1.46739561,\n",
       "       3.05910612, 0.64831606, 0.69875199, 0.06504531, 2.60823147,\n",
       "       2.46431971, 2.99882184, 1.51180722, 3.70195232, 0.12644184,\n",
       "       1.94874345, 2.97123183, 0.90042357, 1.93179374, 1.52487093,\n",
       "       3.73852622, 3.22115266, 3.71012227, 1.38341653, 2.71238925,\n",
       "       1.80634125, 2.48078969, 0.05122723, 2.26508346, 1.8895748 ,\n",
       "       2.64943591, 1.1573593 , 3.76325396, 0.4524601 , 2.76848265,\n",
       "       1.91924904, 5.04225823, 2.50959054, 2.87432118, 1.32041115,\n",
       "       0.80108444, 3.49762827, 2.13413053, 0.72772297, 2.03141922,\n",
       "       1.27620419, 0.91378253, 1.18852976, 1.47859703, 0.        ,\n",
       "       0.        , 1.97409395, 0.01443818, 4.46045708, 2.4065141 ,\n",
       "       3.43175622, 0.24031365, 0.07843929, 2.37508121, 2.48395881])"
      ]
     },
     "execution_count": 8,
     "metadata": {},
     "output_type": "execute_result"
    }
   ],
   "source": [
    "def standardize(x):\n",
    "    #This function takes as input a numpy array and returns a stadardized numpy array of the same dimensions.\n",
    "    #Sample input: np.array([[1,2,3],[4,5,6]])\n",
    "    #Sample output: np.array([[-1,-1,-1],[1,1,1]])\n",
    "    # Your code here:\n",
    "    c = x.std(axis=0)\n",
    "    for x1 in x:\n",
    "        x1.mean(axis=0)\n",
    "    d = x1/c\n",
    "    \n",
    "    return d\n",
    "standardize(cats)\n",
    "standardize(dogs)"
   ]
  },
  {
   "cell_type": "markdown",
   "metadata": {},
   "source": [
    "Now, use the `np.concatenate` function to combine the cats and dogs arrays. Use `axis=1` to combine the two correctly. Make sure to put dogs first."
   ]
  },
  {
   "cell_type": "code",
   "execution_count": 9,
   "metadata": {},
   "outputs": [
    {
     "data": {
      "text/plain": [
       "array([[224, 131, 127, ...,  60, 223, 101],\n",
       "       [224, 124, 136, ...,  50, 224, 107],\n",
       "       [224, 104, 127, ...,  63, 225, 106],\n",
       "       ...,\n",
       "       [100, 104, 115, ..., 105, 180, 114],\n",
       "       [100, 124, 104, ..., 118, 182,  91],\n",
       "       [100, 124, 104, ..., 104, 177, 113]])"
      ]
     },
     "execution_count": 9,
     "metadata": {},
     "output_type": "execute_result"
    }
   ],
   "source": [
    "# Your code here:\n",
    "cd = np.concatenate((dogs, cats), axis=1)\n",
    "cd"
   ]
  },
  {
   "cell_type": "markdown",
   "metadata": {},
   "source": [
    "Standardize the concatenated array below."
   ]
  },
  {
   "cell_type": "code",
   "execution_count": 10,
   "metadata": {},
   "outputs": [
    {
     "data": {
      "text/plain": [
       "array([1.73312574, 1.72666382, 2.591549  , 2.06818646, 2.20567908,\n",
       "       0.        , 2.70536222, 0.10591103, 1.42818118, 2.56809954,\n",
       "       1.582396  , 1.97635758, 5.88075113, 4.66958418, 1.42066449,\n",
       "       3.24545352, 0.66918026, 3.47197992, 1.1930577 , 0.3656729 ,\n",
       "       0.22694906, 0.68594433, 0.29487421, 0.67550034, 1.46739561,\n",
       "       3.05910612, 0.64831606, 0.69875199, 0.06504531, 2.60823147,\n",
       "       2.46431971, 2.99882184, 1.51180722, 3.70195232, 0.12644184,\n",
       "       1.94874345, 2.97123183, 0.90042357, 1.93179374, 1.52487093,\n",
       "       3.73852622, 3.22115266, 3.71012227, 1.38341653, 2.71238925,\n",
       "       1.80634125, 2.48078969, 0.05122723, 2.26508346, 1.8895748 ,\n",
       "       2.64943591, 1.1573593 , 3.76325396, 0.4524601 , 2.76848265,\n",
       "       1.91924904, 5.04225823, 2.50959054, 2.87432118, 1.32041115,\n",
       "       0.80108444, 3.49762827, 2.13413053, 0.72772297, 2.03141922,\n",
       "       1.27620419, 0.91378253, 1.18852976, 1.47859703, 0.        ,\n",
       "       0.        , 1.97409395, 0.01443818, 4.46045708, 2.4065141 ,\n",
       "       3.43175622, 0.24031365, 0.07843929, 2.37508121, 2.48395881,\n",
       "       0.96001257, 0.16347755, 2.53582698, 2.88615259, 0.90516761,\n",
       "       0.72253697, 1.2507087 , 2.22395603, 2.7460825 , 0.61604153,\n",
       "       4.16230289, 4.26045043, 0.66650488, 0.58624647, 2.26009272,\n",
       "       3.07187523, 1.49434163, 0.78856804, 3.1713882 , 1.82847536,\n",
       "       0.17525821, 0.65096041, 2.80391967, 3.59268297, 0.91999152,\n",
       "       1.24628928, 3.90593559, 3.04001715, 1.02073358, 2.01619115,\n",
       "       0.22552791, 2.08998398, 0.33977676, 0.07777497, 1.04867776,\n",
       "       4.81881302, 0.67233018, 3.46036403, 3.29600991, 1.00636577,\n",
       "       3.69317549, 1.57929847, 0.80725289, 0.        , 0.32738948,\n",
       "       5.05782045, 5.54752727, 3.34696241, 1.02105093, 1.88961041,\n",
       "       0.22459147, 2.96521618, 3.59265524, 3.46331817, 4.15482851,\n",
       "       4.08372968, 2.768794  , 1.14436965, 1.38143768, 5.12270844,\n",
       "       5.74155428, 1.98379329, 1.58941479, 2.49390128, 1.73286837,\n",
       "       0.61579905, 0.63798868, 2.97545237, 2.94120458, 2.56914078,\n",
       "       3.05042896, 2.95013884, 1.54806314, 4.87686808, 0.54314432,\n",
       "       1.56841291, 2.60353022, 2.66681326, 3.08552152, 2.81112285])"
      ]
     },
     "execution_count": 10,
     "metadata": {},
     "output_type": "execute_result"
    }
   ],
   "source": [
    "# Your code here:\n",
    "standardize(cd)\n"
   ]
  },
  {
   "cell_type": "markdown",
   "metadata": {},
   "source": [
    "# Challenge 2 - Using PCA\n",
    "\n",
    "Now that we have created a standardized matrix of cats and dogs, we'll find the two most important components in the data.\n",
    "\n",
    "Load the `PCA` function from `statsmodels` (read about this function [here](https://www.statsmodels.org/dev/generated/statsmodels.multivariate.pca.PCA.html)) and apply the function to our standarized data. Create a PCA model with two components."
   ]
  },
  {
   "cell_type": "code",
   "execution_count": 11,
   "metadata": {},
   "outputs": [],
   "source": [
    "#from sklearn.decomposition import PCA\n",
    "\n",
    "#import sklearn\n"
   ]
  },
  {
   "cell_type": "code",
   "execution_count": 12,
   "metadata": {},
   "outputs": [
    {
     "name": "stdout",
     "output_type": "stream",
     "text": [
      "Python version\n",
      "3.7.3 | packaged by conda-forge | (default, Mar 27 2019, 23:01:00) \n",
      "[GCC 7.3.0]\n",
      "Version info.\n",
      "sys.version_info(major=3, minor=7, micro=3, releaselevel='final', serial=0)\n",
      "['/home/fabian/datamad0120/module-2/lab-pca/your-code', '/snap/jupyter/6/lib/python37.zip', '/snap/jupyter/6/lib/python3.7', '/snap/jupyter/6/lib/python3.7/lib-dynload', '', '/home/fabian/snap/jupyter/common/lib/python3.7/site-packages', '/snap/jupyter/6/lib/python3.7/site-packages', '/snap/jupyter/6/lib/python3.7/site-packages/IPython/extensions', '/home/fabian/snap/jupyter/6/.ipython']\n"
     ]
    }
   ],
   "source": [
    "import sys\n",
    "print(\"Python version\")\n",
    "print (sys.version)\n",
    "print(\"Version info.\")\n",
    "print (sys.version_info)\n",
    "print(sys.path)"
   ]
  },
  {
   "cell_type": "markdown",
   "metadata": {},
   "source": [
    "Use `numpy` to find to transpose the standardized pet array. This will help us compute the projection."
   ]
  },
  {
   "cell_type": "code",
   "execution_count": null,
   "metadata": {},
   "outputs": [],
   "source": [
    "# Your code here:\n"
   ]
  },
  {
   "cell_type": "markdown",
   "metadata": {},
   "source": [
    "Find the dot product of the transposed standardized pet matrix and the `factors` of the `PCA` model found above. This will be the projection onto 2 dimensions. This means that each cat and dog image will now only have two columns instead of 4096."
   ]
  },
  {
   "cell_type": "code",
   "execution_count": null,
   "metadata": {},
   "outputs": [],
   "source": [
    "# Your code here:"
   ]
  },
  {
   "cell_type": "markdown",
   "metadata": {},
   "source": [
    "# Challenge 3 - Plotting the Data\n",
    "\n",
    "Now that we have reduced our cats and dogs arrays, we can easily plot the data in a way that the human eye can understand. We can look at this plot to see whether there are differences between the cat and dog images. \n",
    "\n",
    "In the cell below, turn the two dimensional projection into a pandas dataframe and name the columns `pc1`, and `pc2` respectively."
   ]
  },
  {
   "cell_type": "code",
   "execution_count": null,
   "metadata": {},
   "outputs": [],
   "source": [
    "# Your code here:\n",
    "\n"
   ]
  },
  {
   "cell_type": "markdown",
   "metadata": {},
   "source": [
    "Create a labels list. This list will be of size 160. The first 80 elements in the list will be the word `blue`, and the last 80 elements will be `red`. This will ensure that all dog observations will be colored in blue and all cats will be colored in red. Name this list `colors`."
   ]
  },
  {
   "cell_type": "code",
   "execution_count": null,
   "metadata": {},
   "outputs": [],
   "source": [
    "# Your code here:\n",
    "\n"
   ]
  },
  {
   "cell_type": "markdown",
   "metadata": {},
   "source": [
    "Create a scatter plot of `pc1` and `pc2` below. Use the `colors` list above to color the observations by setting `c=colors`."
   ]
  },
  {
   "cell_type": "code",
   "execution_count": null,
   "metadata": {},
   "outputs": [],
   "source": [
    "# Your code here:\n",
    "\n"
   ]
  },
  {
   "cell_type": "markdown",
   "metadata": {},
   "source": [
    "Do you see a clear separation between cats and dogs? Write your answer below."
   ]
  },
  {
   "cell_type": "code",
   "execution_count": null,
   "metadata": {},
   "outputs": [],
   "source": [
    "# Your conclusions here:\n",
    "\n"
   ]
  },
  {
   "cell_type": "code",
   "execution_count": null,
   "metadata": {},
   "outputs": [],
   "source": []
  }
 ],
 "metadata": {
  "kernelspec": {
   "display_name": "Python 3",
   "language": "python",
   "name": "python3"
  },
  "language_info": {
   "codemirror_mode": {
    "name": "ipython",
    "version": 3
   },
   "file_extension": ".py",
   "mimetype": "text/x-python",
   "name": "python",
   "nbconvert_exporter": "python",
   "pygments_lexer": "ipython3",
   "version": "3.7.3"
  }
 },
 "nbformat": 4,
 "nbformat_minor": 2
}
